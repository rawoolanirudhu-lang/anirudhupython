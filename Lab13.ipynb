{
  "nbformat": 4,
  "nbformat_minor": 0,
  "metadata": {
    "colab": {
      "provenance": [],
      "toc_visible": true,
      "authorship_tag": "ABX9TyPjA70PJ/iLBcsz436vROxg",
      "include_colab_link": true
    },
    "kernelspec": {
      "name": "python3",
      "display_name": "Python 3"
    },
    "language_info": {
      "name": "python"
    }
  },
  "cells": [
    {
      "cell_type": "markdown",
      "metadata": {
        "id": "view-in-github",
        "colab_type": "text"
      },
      "source": [
        "<a href=\"https://colab.research.google.com/github/rawoolanirudhu-lang/anirudhupython/blob/main/Lab13.ipynb\" target=\"_parent\"><img src=\"https://colab.research.google.com/assets/colab-badge.svg\" alt=\"Open In Colab\"/></a>"
      ]
    },
    {
      "cell_type": "code",
      "execution_count": 5,
      "metadata": {
        "colab": {
          "base_uri": "https://localhost:8080/"
        },
        "id": "G_vecebCkXo3",
        "outputId": "2352a988-8887-4a8f-d9b0-0192190389aa"
      },
      "outputs": [
        {
          "output_type": "stream",
          "name": "stdout",
          "text": [
            "Single-quoted: Hello, World!\n",
            "Length of the string: 13\n",
            "Uppercase version: HELLO, WORLD!\n",
            "Lowercase version: hello, world!\n",
            "Contains 'World': True\n",
            "Double-quoted string: Edunet is awesome!\n",
            "Length of the string: 18\n",
            "String after replacement: Edunet is great!\n",
            "Words in the string: ['Edunet', 'is', 'awesome!']\n"
          ]
        }
      ],
      "source": [
        "single_quoted = 'Hello, World!'\n",
        "length = len(single_quoted)\n",
        "upper_case = single_quoted.upper()\n",
        "lower_case = single_quoted.lower()\n",
        "contains_substring = 'World' in single_quoted\n",
        "print(\"Single-quoted:\", single_quoted)\n",
        "print(\"Length of the string:\", length)\n",
        "print(\"Uppercase version:\", upper_case)\n",
        "print(\"Lowercase version:\", lower_case)\n",
        "print(\"Contains 'World':\", contains_substring)\n",
        "double_quoted = \"Edunet is awesome!\"\n",
        "length = len(double_quoted)\n",
        "replaced_string = double_quoted.replace(\"awesome\", \"great\")\n",
        "words = double_quoted.split()\n",
        "print(\"Double-quoted string:\", double_quoted)\n",
        "print(\"Length of the string:\", length)\n",
        "print(\"String after replacement:\", replaced_string)\n",
        "print(\"Words in the string:\", words)\n",
        "\n",
        ""
      ]
    },
    {
      "cell_type": "markdown",
      "source": [
        "Lab13.py\n"
      ],
      "metadata": {
        "id": "XVeQquYevX6c"
      }
    },
    {
      "cell_type": "code",
      "source": [
        "int1 = 10\n",
        "int2 = -5\n",
        "int3 = 0\n",
        "float1 = float(int1)\n",
        "float2 = float(int2)\n",
        "float3 = float(int3)\n",
        "print(\"Original integer values:\")\n",
        "print(\"int1 =\", int1)\n",
        "print(\"int2 =\", int2)\n",
        "print(\"int3 =\", int3)\n",
        "print(\"\\nConverted float values:\")\n",
        "print(\"float1 =\", float1)\n",
        "print(\"float2 =\", float2)\n",
        "print(\"float3 =\", float3)"
      ],
      "metadata": {
        "colab": {
          "base_uri": "https://localhost:8080/"
        },
        "id": "vvbu8OpKvcLD",
        "outputId": "7bdf7e5f-a29c-4f09-8e6c-f80782273bdb"
      },
      "execution_count": 6,
      "outputs": [
        {
          "output_type": "stream",
          "name": "stdout",
          "text": [
            "Original integer values:\n",
            "int1 = 10\n",
            "int2 = -5\n",
            "int3 = 0\n",
            "\n",
            "Converted float values:\n",
            "float1 = 10.0\n",
            "float2 = -5.0\n",
            "float3 = 0.0\n"
          ]
        }
      ]
    }
  ]
}