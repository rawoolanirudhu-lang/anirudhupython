{
  "nbformat": 4,
  "nbformat_minor": 0,
  "metadata": {
    "colab": {
      "provenance": [],
      "authorship_tag": "ABX9TyPb2GSE73EVdaQLyM5TeYVO",
      "include_colab_link": true
    },
    "kernelspec": {
      "name": "python3",
      "display_name": "Python 3"
    },
    "language_info": {
      "name": "python"
    }
  },
  "cells": [
    {
      "cell_type": "markdown",
      "metadata": {
        "id": "view-in-github",
        "colab_type": "text"
      },
      "source": [
        "<a href=\"https://colab.research.google.com/github/rawoolanirudhu-lang/anirudhupython/blob/main/Lab11.ipynb\" target=\"_parent\"><img src=\"https://colab.research.google.com/assets/colab-badge.svg\" alt=\"Open In Colab\"/></a>"
      ]
    },
    {
      "cell_type": "code",
      "execution_count": 4,
      "metadata": {
        "colab": {
          "base_uri": "https://localhost:8080/"
        },
        "id": "zPzHrINBT3qR",
        "outputId": "a7a50127-9503-4137-c62b-6cf6f01371fe"
      },
      "outputs": [
        {
          "output_type": "stream",
          "name": "stdout",
          "text": [
            "integer values:\n",
            "integer1 = 10\n",
            "integer2 = -5\n",
            "integer3 = 0\n",
            "Sum of integer1 and integer2: 5\n",
            "Product of integer1 and 3: 30\n",
            "Difference betweet integer1 and integer2: 15\n",
            "\n",
            "Floating-point values :\n",
            "float1 = 3.14\n",
            "float2 = -2.718\n",
            "float3 = 0.0\n",
            "Sum of float1 and float2: 0.42200000000000015\n",
            "Product of float1 and 2: 6.28\n",
            "Difference between float1 and float2: 5.8580000000000005\n",
            "\n",
            "Complex values:\n",
            "complex1 = (2+3j)\n",
            "complex2 = (-1-4j)\n",
            "complex3 = 0j\n",
            "Sum of complex1 and complex2: (1-1j)\n",
            "Product of complex1 and (1 + 1j): (-1+5j)\n",
            "Difference between complex1 and complex2: (3+7j)\n"
          ]
        }
      ],
      "source": [
        "integer1 = 10\n",
        "integer2 = -5\n",
        "integer3 = 0\n",
        "print(\"integer values:\")\n",
        "print(\"integer1 =\", integer1)\n",
        "print(\"integer2 =\", integer2)\n",
        "print(\"integer3 =\", integer3)\n",
        "print(\"Sum of integer1 and integer2:\", integer1 + integer2)\n",
        "print(\"Product of integer1 and 3:\",integer1 * 3)\n",
        "print(\"Difference betweet integer1 and integer2:\", integer1 - integer2)\n",
        "float1 = 3.14\n",
        "float2 = -2.718\n",
        "float3 = 0.0\n",
        "sum_floats = float1 + float2\n",
        "product_floats = float1 * 2\n",
        "difference_floats = float1 - float2\n",
        "print(\"\\nFloating-point values :\")\n",
        "print(\"float1 =\", float1)\n",
        "print(\"float2 =\", float2)\n",
        "print(\"float3 =\", float3)\n",
        "print(\"Sum of float1 and float2:\", sum_floats)\n",
        "print(\"Product of float1 and 2:\", product_floats)\n",
        "print(\"Difference between float1 and float2:\", difference_floats)\n",
        "complex1 = 2 + 3j\n",
        "complex2 = -1 -4j\n",
        "complex3 = 0 + 0j\n",
        "sum_complex = complex1 + complex2\n",
        "product_complex = complex1 * (1 + 1j)\n",
        "difference_complex = complex1 - complex2\n",
        "print(\"\\nComplex values:\")\n",
        "print(\"complex1 =\", complex1)\n",
        "print(\"complex2 =\", complex2)\n",
        "print(\"complex3 =\", complex3)\n",
        "print(\"Sum of complex1 and complex2:\", sum_complex)\n",
        "print(\"Product of complex1 and (1 + 1j):\", product_complex)\n",
        "print(\"Difference between complex1 and complex2:\", difference_complex)\n",
        "\n"
      ]
    }
  ]
}