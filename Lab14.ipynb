{
  "nbformat": 4,
  "nbformat_minor": 0,
  "metadata": {
    "colab": {
      "provenance": [],
      "authorship_tag": "ABX9TyNkZAXbvUWMmEcotLZw1sAp",
      "include_colab_link": true
    },
    "kernelspec": {
      "name": "python3",
      "display_name": "Python 3"
    },
    "language_info": {
      "name": "python"
    }
  },
  "cells": [
    {
      "cell_type": "markdown",
      "metadata": {
        "id": "view-in-github",
        "colab_type": "text"
      },
      "source": [
        "<a href=\"https://colab.research.google.com/github/rawoolanirudhu-lang/anirudhupython/blob/main/Lab14.ipynb\" target=\"_parent\"><img src=\"https://colab.research.google.com/assets/colab-badge.svg\" alt=\"Open In Colab\"/></a>"
      ]
    },
    {
      "cell_type": "code",
      "execution_count": 1,
      "metadata": {
        "colab": {
          "base_uri": "https://localhost:8080/"
        },
        "id": "bQLaskj418-g",
        "outputId": "b2a86f86-194a-47fb-d43c-b8c21c9fc45a"
      },
      "outputs": [
        {
          "output_type": "stream",
          "name": "stdout",
          "text": [
            "The number is 42\n"
          ]
        }
      ],
      "source": [
        "string_value = \"The number is \"\n",
        "integer_value = 42\n",
        "integer_as_string = str(integer_value)\n",
        "result = string_value + integer_as_string\n",
        "print(result)\n"
      ]
    }
  ]
}